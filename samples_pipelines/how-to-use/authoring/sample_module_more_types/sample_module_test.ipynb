{
 "cells": [
  {
   "cell_type": "markdown",
   "metadata": {},
   "source": [
    "# Test Notebook for Building Pipeline Using Module 'basic_module'\n",
    "The module 'sample_module' was generated through command: 'az ml module new -n sample_module'"
   ]
  },
  {
   "cell_type": "code",
   "execution_count": null,
   "metadata": {},
   "outputs": [],
   "source": [
    "from azureml.core import Workspace\n",
    "from azureml.core.compute import AmlCompute, ComputeTarget\n",
    "from azureml.pipeline.wrapper import Module, Pipeline, dsl\n",
    "from sample_module import sample_module"
   ]
  },
  {
   "source": [
    "## Prerequisites: Configure workspace & compute\n",
    "\n",
    " - Update config.json to reference your own workspace\n",
    " - Change the following aml_compute_target's value to reference an existing compute target"
   ],
   "cell_type": "markdown",
   "metadata": {}
  },
  {
   "cell_type": "code",
   "execution_count": null,
   "metadata": {},
   "outputs": [],
   "source": [
    "workspace = Workspace.from_config()\n",
    "aml_compute_target = \"YOUR_COMPUTE_TARGET\"\n",
    "print(workspace.name, workspace.resource_group, workspace.location, workspace.subscription_id, aml_compute_target, sep='\\\\n')"
   ]
  },
  {
   "source": [
    "# Load module(s)\n",
    "It can be done through one of the following:\n",
    "- Module.from_func to convert a python function into module function\n",
    "- Module.from_yaml to load a module function from a module yaml definition\n",
    "- Module.load to load a module function from Azure ML workspace (for registered module)\n\n",
    "Before loading the modules, you should register customized port types."
   ],
   "cell_type": "markdown",
   "metadata": {}
  },
  {
   "cell_type": "code",
   "execution_count": null,
   "metadata": {},
   "outputs": [],
   "source": [
    "from azureml.pipeline.core.graph import DataType\n",
    "DataType.create_data_type(workspace, 'MyDirectory', description='', is_directory=True)\n",
    "DataType.create_data_type(workspace, 'MyPickleDirectory', description='', is_directory=True)\n",
    "module_func = Module.from_func(workspace, basic_module)"
   ]
  },
  {
   "source": [
    "# Create pipeline\n",
    "This is done by calling module function(s) with the parameters/inputs/outputs the module supports"
   ],
   "cell_type": "markdown",
   "metadata": {}
  },
  {
   "cell_type": "code",
   "execution_count": null,
   "metadata": {},
   "outputs": [],
   "source": [
    "@dsl.pipeline(name='test_pipeline', description='A sample pipeline uses basic_module', default_compute_target=aml_compute_target)\n",
    "def sample_pipeline():\n",
    "    module1 = module_func().set_parameters(\n",
    "    \n",
    "    ).set_inputs(\n",
    "\n",
    "    )\n",
    "    return module1.outputs\n",
    "\n",
    "test_pipeline = sample_pipeline()"
   ]
  },
  {
   "cell_type": "code",
   "execution_count": null,
   "metadata": {},
   "outputs": [],
   "source": [
    "test_pipeline.validate()"
   ]
  },
  {
   "cell_type": "code",
   "execution_count": null,
   "metadata": {},
   "outputs": [],
   "source": [
    "pipeline_draft = test_pipeline.save(\n",
    "    experiment_name='module_SDK_local_module_test',\n",
    ")\n",
    "pipeline_draft"
   ]
  },
  {
   "cell_type": "code",
   "execution_count": null,
   "metadata": {},
   "outputs": [],
   "source": [
    "run = test_pipeline.submit(\n",
    "    experiment_name='module_SDK_local_module_test'\n",
    ")\n",
    "run.wait_for_completion()\n",
    "run"
   ]
  }
 ],
 "metadata": {},
 "nbformat": 4,
 "nbformat_minor": 4
}