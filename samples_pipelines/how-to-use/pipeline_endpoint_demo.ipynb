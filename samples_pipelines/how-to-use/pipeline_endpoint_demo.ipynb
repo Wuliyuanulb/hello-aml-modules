{
 "cells": [
  {
   "cell_type": "markdown",
   "metadata": {},
   "source": [
    "# PipelineEndpoint Demo"
   ]
  },
  {
   "cell_type": "code",
   "execution_count": 1,
   "metadata": {},
   "outputs": [
    {
     "name": "stderr",
     "output_type": "stream",
     "text": [
      "Failure while loading azureml_run_type_providers. Failed to load entrypoint azureml.PipelineRun = azureml.pipeline.core.run:PipelineRun._from_dto with exception (azureml-core 0.1.0.0 (c:\\users\\liyw\\pycharmprojects\\azuremlcli\\src\\azureml-core), Requirement.parse('azureml-core~=1.9.0')).\n",
      "Failure while loading azureml_run_type_providers. Failed to load entrypoint azureml.ReusedStepRun = azureml.pipeline.core.run:StepRun._from_reused_dto with exception (azureml-core 0.1.0.0 (c:\\users\\liyw\\pycharmprojects\\azuremlcli\\src\\azureml-core), Requirement.parse('azureml-core~=1.9.0')).\n",
      "Failure while loading azureml_run_type_providers. Failed to load entrypoint azureml.StepRun = azureml.pipeline.core.run:StepRun._from_dto with exception (azureml-core 0.1.0.0 (c:\\users\\liyw\\pycharmprojects\\azuremlcli\\src\\azureml-core), Requirement.parse('azureml-core~=1.9.0')).\n",
      "Failure while loading azureml_run_type_providers. Failed to load entrypoint hyperdrive = azureml.train.hyperdrive:HyperDriveRun._from_run_dto with exception (azureml-core 0.1.0.0 (c:\\users\\liyw\\pycharmprojects\\azuremlcli\\src\\azureml-core), Requirement.parse('azureml-core~=1.9.0'), {'azureml-telemetry'}).\n",
      "Failure while loading azureml_run_type_providers. Failed to load entrypoint automl = azureml.train.automl.run:AutoMLRun._from_run_dto with exception (azureml-core 0.1.0.0 (c:\\users\\liyw\\pycharmprojects\\azuremlcli\\src\\azureml-core), Requirement.parse('azureml-core~=1.9.0'), {'azureml-telemetry'}).\n"
     ]
    }
   ],
   "source": [
    "from azureml.pipeline.wrapper import Module, dsl\n",
    "from azureml.pipeline.wrapper._pipeline_endpoint import PipelineEndpoint\n",
    "from workspace_helpers import setup_default_workspace, load_or_register_dataset"
   ]
  },
  {
   "cell_type": "code",
   "execution_count": 12,
   "metadata": {},
   "outputs": [],
   "source": [
    "workspace = setup_default_workspace()"
   ]
  },
  {
   "cell_type": "code",
   "execution_count": 9,
   "metadata": {},
   "outputs": [],
   "source": [
    "experiment_name = \"TestPipelineEndpoint\"\n",
    "module_func = Module.load(workspace, namespace='azureml', name='Select Columns in Dataset')\n",
    "test_pipeline_endpoint_name = \"test_pipeline_endpoint\"\n",
    "test_pipeline_endpoint_id = \"b27eb28c-da34-4064-9c13-e515fdb2c71b\"\n",
    "\n",
    "blob_input_data = load_or_register_dataset(workspace, name='Automobile_price_data_(Raw)',\n",
    "                                           datastore_name='azureml_globaldatasets',\n",
    "                                           path='GenericCSV/Automobile_price_data_(Raw)')\n",
    "select_columns = \"{\\\"isFilter\\\":true,\\\"rules\\\":[{\\\"exclude\\\":false,\\\"ruleType\\\":\\\"AllColumns\\\"},\" \\\n",
    "                 \"{\\\"exclude\\\":true,\\\"ruleType\\\":\\\"ColumnNames\\\",\\\"columns\\\":[\\\"normalized-losses\\\"]}]}\"\n",
    "\n",
    "@dsl.pipeline(name='test-pipeline', default_compute_target='aml-compute')\n",
    "def test_pipeline(_select_columns):\n",
    "    module1 = module_func(\n",
    "        dataset=blob_input_data,\n",
    "        select_columns=_select_columns\n",
    "    )\n",
    "    return module1.outputs"
   ]
  },
  {
   "cell_type": "code",
   "execution_count": 13,
   "metadata": {},
   "outputs": [
    {
     "name": "stdout",
     "output_type": "stream",
     "text": [
      "Submitted PipelineRun e29f78ab-21d3-41d6-a2da-c7cf207b66e7\n"
     ]
    },
    {
     "name": "stderr",
     "output_type": "stream",
     "text": [
      "method publish_to_endpoint: This is an experimental method, and may change at any time.<br/>For more information, see https://aka.ms/azuremlexperimental.\n"
     ]
    },
    {
     "name": "stdout",
     "output_type": "stream",
     "text": [
      "Link to Azure Machine Learning Portal: https://ml.azure.com/experiments/TestPipelineEndpoint/runs/e29f78ab-21d3-41d6-a2da-c7cf207b66e7?wsid=/subscriptions/4faaaf21-663f-4391-96fd-47197c630979/resourcegroups/DesignerTestRG/workspaces/DesignerTest-EUS\n",
      "Using existing pipeline endpoint \"test_pipeline_endpoint\"\n"
     ]
    }
   ],
   "source": [
    "pipeline_parameter = {'_select_columns': select_columns}\n",
    "pipeline = test_pipeline(**pipeline_parameter)\n",
    "run = pipeline.submit(experiment_name=experiment_name)\n",
    "published_pipeline = run.publish_to_endpoint(pipeline_endpoint_name=test_pipeline_endpoint_name,\n",
    "                                           name=\"test_pipeline_endpoint\",\n",
    "                                           use_existing_pipeline_endpoint=True,\n",
    "                                           set_as_default=True)"
   ]
  },
  {
   "attachments": {},
   "cell_type": "markdown",
   "metadata": {},
   "source": [
    "### 1. Get pipeline endpoint\n",
    "Get the PipelineEndpoint by name or ID"
   ]
  },
  {
   "cell_type": "markdown",
   "metadata": {},
   "source": [
    "#### get by id"
   ]
  },
  {
   "cell_type": "code",
   "execution_count": 16,
   "metadata": {},
   "outputs": [
    {
     "name": "stdout",
     "output_type": "stream",
     "text": [
      "<class 'azureml.pipeline.wrapper._pipeline_endpoint.PipelineEndpoint'>\n",
      "test_pipeline_endpoint\n"
     ]
    }
   ],
   "source": [
    "endpoint_got_by_id = PipelineEndpoint.get(workspace=workspace, endpoint_id=test_pipeline_endpoint_id)\n",
    "print(type(endpoint_got_by_id))\n",
    "print(endpoint_got_by_id.name)"
   ]
  },
  {
   "cell_type": "markdown",
   "metadata": {},
   "source": [
    "#### get by name"
   ]
  },
  {
   "cell_type": "code",
   "execution_count": 17,
   "metadata": {},
   "outputs": [
    {
     "name": "stdout",
     "output_type": "stream",
     "text": [
      "<class 'azureml.pipeline.wrapper._pipeline_endpoint.PipelineEndpoint'>\n",
      "test_pipeline_endpoint\n"
     ]
    }
   ],
   "source": [
    "endpoint_got_by_name = PipelineEndpoint.get(workspace=workspace, endpoint_name=test_pipeline_endpoint_name)\n",
    "print(type(endpoint_got_by_name))\n",
    "print(endpoint_got_by_name.name)"
   ]
  },
  {
   "cell_type": "markdown",
   "metadata": {},
   "source": [
    "#### get not-exist endpoint"
   ]
  },
  {
   "cell_type": "code",
   "execution_count": 19,
   "metadata": {
    "collapsed": true
   },
   "outputs": [
    {
     "ename": "Exception",
     "evalue": "Pipeline Endpoint \"pipeline_endpoint_not_exist\" not exist.",
     "output_type": "error",
     "traceback": [
      "\u001b[1;31m---------------------------------------------------------------------------\u001b[0m",
      "\u001b[1;31mException\u001b[0m                                 Traceback (most recent call last)",
      "\u001b[1;32m<ipython-input-19-4891e7b1c07a>\u001b[0m in \u001b[0;36m<module>\u001b[1;34m\u001b[0m\n\u001b[1;32m----> 1\u001b[1;33m \u001b[0mPipelineEndpoint\u001b[0m\u001b[1;33m.\u001b[0m\u001b[0mget\u001b[0m\u001b[1;33m(\u001b[0m\u001b[0mworkspace\u001b[0m\u001b[1;33m=\u001b[0m\u001b[0mworkspace\u001b[0m\u001b[1;33m,\u001b[0m \u001b[0mendpoint_name\u001b[0m\u001b[1;33m=\u001b[0m\u001b[1;34m\"pipeline_endpoint_not_exist\"\u001b[0m\u001b[1;33m)\u001b[0m\u001b[1;33m\u001b[0m\u001b[1;33m\u001b[0m\u001b[0m\n\u001b[0m",
      "\u001b[1;32m~\\PycharmProjects\\AzureMLCli\\src\\azureml-pipeline-wrapper\\azureml\\pipeline\\wrapper\\_loggerfactory.py\u001b[0m in \u001b[0;36mwrapper\u001b[1;34m(*args, **kwargs)\u001b[0m\n\u001b[0;32m    130\u001b[0m                                                activity_type, custom_dimensions) as al:\n\u001b[0;32m    131\u001b[0m                 \u001b[1;32mtry\u001b[0m\u001b[1;33m:\u001b[0m\u001b[1;33m\u001b[0m\u001b[1;33m\u001b[0m\u001b[0m\n\u001b[1;32m--> 132\u001b[1;33m                     \u001b[1;32mreturn\u001b[0m \u001b[0mfunc\u001b[0m\u001b[1;33m(\u001b[0m\u001b[1;33m*\u001b[0m\u001b[0margs\u001b[0m\u001b[1;33m,\u001b[0m \u001b[1;33m**\u001b[0m\u001b[0mkwargs\u001b[0m\u001b[1;33m)\u001b[0m\u001b[1;33m\u001b[0m\u001b[1;33m\u001b[0m\u001b[0m\n\u001b[0m\u001b[0;32m    133\u001b[0m                 \u001b[1;32mexcept\u001b[0m \u001b[0mException\u001b[0m \u001b[1;32mas\u001b[0m \u001b[0me\u001b[0m\u001b[1;33m:\u001b[0m\u001b[1;33m\u001b[0m\u001b[1;33m\u001b[0m\u001b[0m\n\u001b[0;32m    134\u001b[0m                     \u001b[0mal\u001b[0m\u001b[1;33m.\u001b[0m\u001b[0mactivity_info\u001b[0m\u001b[1;33m[\u001b[0m\u001b[1;34m'exception_type'\u001b[0m\u001b[1;33m]\u001b[0m \u001b[1;33m=\u001b[0m \u001b[0mtype\u001b[0m\u001b[1;33m(\u001b[0m\u001b[0me\u001b[0m\u001b[1;33m)\u001b[0m\u001b[1;33m.\u001b[0m\u001b[0m__name__\u001b[0m\u001b[1;33m\u001b[0m\u001b[1;33m\u001b[0m\u001b[0m\n",
      "\u001b[1;32m~\\PycharmProjects\\AzureMLCli\\src\\azureml-pipeline-wrapper\\azureml\\pipeline\\wrapper\\_pipeline_endpoint.py\u001b[0m in \u001b[0;36mget\u001b[1;34m(workspace, endpoint_id, endpoint_name)\u001b[0m\n\u001b[0;32m    240\u001b[0m         pipeline_endpoint = SmtBackendProvider().get_pipeline_endpoint(workspace=workspace,\n\u001b[0;32m    241\u001b[0m                                                                        \u001b[0mpipeline_endpoint_id\u001b[0m\u001b[1;33m=\u001b[0m\u001b[0mendpoint_id\u001b[0m\u001b[1;33m,\u001b[0m\u001b[1;33m\u001b[0m\u001b[1;33m\u001b[0m\u001b[0m\n\u001b[1;32m--> 242\u001b[1;33m                                                                        pipeline_endpoint_name=endpoint_name)\n\u001b[0m\u001b[0;32m    243\u001b[0m \u001b[1;33m\u001b[0m\u001b[0m\n\u001b[0;32m    244\u001b[0m         \u001b[1;32mreturn\u001b[0m \u001b[0mpipeline_endpoint\u001b[0m\u001b[1;33m\u001b[0m\u001b[1;33m\u001b[0m\u001b[0m\n",
      "\u001b[1;32m~\\PycharmProjects\\AzureMLCli\\src\\azureml-pipeline-wrapper\\azureml\\pipeline\\wrapper\\_backend_provider.py\u001b[0m in \u001b[0;36mget_pipeline_endpoint\u001b[1;34m(self, workspace, pipeline_endpoint_id, pipeline_endpoint_name)\u001b[0m\n\u001b[0;32m    314\u001b[0m         \u001b[0mservice_caller\u001b[0m \u001b[1;33m=\u001b[0m \u001b[0mDesignerServiceCaller\u001b[0m\u001b[1;33m(\u001b[0m\u001b[0mworkspace\u001b[0m\u001b[1;33m=\u001b[0m\u001b[0mworkspace\u001b[0m\u001b[1;33m)\u001b[0m\u001b[1;33m\u001b[0m\u001b[1;33m\u001b[0m\u001b[0m\n\u001b[0;32m    315\u001b[0m         result = service_caller.get_pipeline_endpoint(pipeline_endpoint_id=pipeline_endpoint_id,\n\u001b[1;32m--> 316\u001b[1;33m                                                       pipeline_endpoint_name=pipeline_endpoint_name)\n\u001b[0m\u001b[0;32m    317\u001b[0m \u001b[1;33m\u001b[0m\u001b[0m\n\u001b[0;32m    318\u001b[0m         \u001b[1;32mfrom\u001b[0m \u001b[1;33m.\u001b[0m\u001b[0m_pipeline_endpoint\u001b[0m \u001b[1;32mimport\u001b[0m \u001b[0mPipelineEndpoint\u001b[0m\u001b[1;33m\u001b[0m\u001b[1;33m\u001b[0m\u001b[0m\n",
      "\u001b[1;32m~\\PycharmProjects\\AzureMLCli\\src\\azureml-pipeline-wrapper\\azureml\\pipeline\\wrapper\\_loggerfactory.py\u001b[0m in \u001b[0;36mwrapper\u001b[1;34m(*args, **kwargs)\u001b[0m\n\u001b[0;32m    130\u001b[0m                                                activity_type, custom_dimensions) as al:\n\u001b[0;32m    131\u001b[0m                 \u001b[1;32mtry\u001b[0m\u001b[1;33m:\u001b[0m\u001b[1;33m\u001b[0m\u001b[1;33m\u001b[0m\u001b[0m\n\u001b[1;32m--> 132\u001b[1;33m                     \u001b[1;32mreturn\u001b[0m \u001b[0mfunc\u001b[0m\u001b[1;33m(\u001b[0m\u001b[1;33m*\u001b[0m\u001b[0margs\u001b[0m\u001b[1;33m,\u001b[0m \u001b[1;33m**\u001b[0m\u001b[0mkwargs\u001b[0m\u001b[1;33m)\u001b[0m\u001b[1;33m\u001b[0m\u001b[1;33m\u001b[0m\u001b[0m\n\u001b[0m\u001b[0;32m    133\u001b[0m                 \u001b[1;32mexcept\u001b[0m \u001b[0mException\u001b[0m \u001b[1;32mas\u001b[0m \u001b[0me\u001b[0m\u001b[1;33m:\u001b[0m\u001b[1;33m\u001b[0m\u001b[1;33m\u001b[0m\u001b[0m\n\u001b[0;32m    134\u001b[0m                     \u001b[0mal\u001b[0m\u001b[1;33m.\u001b[0m\u001b[0mactivity_info\u001b[0m\u001b[1;33m[\u001b[0m\u001b[1;34m'exception_type'\u001b[0m\u001b[1;33m]\u001b[0m \u001b[1;33m=\u001b[0m \u001b[0mtype\u001b[0m\u001b[1;33m(\u001b[0m\u001b[0me\u001b[0m\u001b[1;33m)\u001b[0m\u001b[1;33m.\u001b[0m\u001b[0m__name__\u001b[0m\u001b[1;33m\u001b[0m\u001b[1;33m\u001b[0m\u001b[0m\n",
      "\u001b[1;32m~\\PycharmProjects\\AzureMLCli\\src\\azureml-pipeline-wrapper\\azureml\\pipeline\\wrapper\\_restclients\\service_caller.py\u001b[0m in \u001b[0;36mget_pipeline_endpoint\u001b[1;34m(self, pipeline_endpoint_id, pipeline_endpoint_name)\u001b[0m\n\u001b[0;32m    533\u001b[0m             \u001b[0mendpoints_name_list\u001b[0m \u001b[1;33m=\u001b[0m \u001b[1;33m[\u001b[0m\u001b[0mendpoint\u001b[0m\u001b[1;33m.\u001b[0m\u001b[0mname\u001b[0m \u001b[1;32mfor\u001b[0m \u001b[0mendpoint\u001b[0m \u001b[1;32min\u001b[0m \u001b[0mendpoints\u001b[0m\u001b[1;33m]\u001b[0m\u001b[1;33m\u001b[0m\u001b[1;33m\u001b[0m\u001b[0m\n\u001b[0;32m    534\u001b[0m             \u001b[1;32mif\u001b[0m \u001b[0mpipeline_endpoint_name\u001b[0m \u001b[1;32mnot\u001b[0m \u001b[1;32min\u001b[0m \u001b[0mendpoints_name_list\u001b[0m\u001b[1;33m:\u001b[0m\u001b[1;33m\u001b[0m\u001b[1;33m\u001b[0m\u001b[0m\n\u001b[1;32m--> 535\u001b[1;33m                 \u001b[1;32mraise\u001b[0m \u001b[0mException\u001b[0m\u001b[1;33m(\u001b[0m\u001b[1;34m'Pipeline Endpoint \"{0}\" not exist.'\u001b[0m\u001b[1;33m.\u001b[0m\u001b[0mformat\u001b[0m\u001b[1;33m(\u001b[0m\u001b[0mpipeline_endpoint_name\u001b[0m\u001b[1;33m)\u001b[0m\u001b[1;33m)\u001b[0m\u001b[1;33m\u001b[0m\u001b[1;33m\u001b[0m\u001b[0m\n\u001b[0m\u001b[0;32m    536\u001b[0m             \u001b[1;32mfor\u001b[0m \u001b[0mendpoint\u001b[0m \u001b[1;32min\u001b[0m \u001b[0mendpoints\u001b[0m\u001b[1;33m:\u001b[0m\u001b[1;33m\u001b[0m\u001b[1;33m\u001b[0m\u001b[0m\n\u001b[0;32m    537\u001b[0m                 \u001b[1;32mif\u001b[0m \u001b[0mendpoint\u001b[0m\u001b[1;33m.\u001b[0m\u001b[0mname\u001b[0m \u001b[1;33m==\u001b[0m \u001b[0mpipeline_endpoint_name\u001b[0m\u001b[1;33m:\u001b[0m\u001b[1;33m\u001b[0m\u001b[1;33m\u001b[0m\u001b[0m\n",
      "\u001b[1;31mException\u001b[0m: Pipeline Endpoint \"pipeline_endpoint_not_exist\" not exist."
     ]
    }
   ],
   "source": [
    "PipelineEndpoint.get(workspace=workspace, endpoint_name=\"pipeline_endpoint_not_exist\")"
   ]
  },
  {
   "cell_type": "markdown",
   "metadata": {},
   "source": [
    "### 2. Pipeline endpoint Submit\n",
    "Submit default version of endpoint."
   ]
  },
  {
   "cell_type": "code",
   "execution_count": 20,
   "metadata": {},
   "outputs": [
    {
     "name": "stdout",
     "output_type": "stream",
     "text": [
      "Submit pipeline test_pipeline_endpoint use default parameters {'_select_columns': '{\"isFilter\":true,\"rules\":[{\"exclude\":false,\"ruleType\":\"AllColumns\"},{\"exclude\":true,\"ruleType\":\"ColumnNames\",\"columns\":[\"normalized-losses\"]}]}'}\n",
      "Submitted PipelineEndpointRun ed00c98f-19a8-4b6c-bc13-459f22f72b55\n",
      "Link to Azure Machine Learning Portal: https://ml.azure.com/experiments/test_submit_by_pipeline_endpoint/runs/ed00c98f-19a8-4b6c-bc13-459f22f72b55?wsid=/subscriptions/4faaaf21-663f-4391-96fd-47197c630979/resourcegroups/DesignerTestRG/workspaces/DesignerTest-EUS\n"
     ]
    }
   ],
   "source": [
    "test_submit_experiment_name = \"test_submit_by_pipeline_endpoint\"\n",
    "pipeline_endpoint = PipelineEndpoint.get(workspace=workspace, endpoint_id=test_pipeline_endpoint_id)\n",
    "\n",
    "run_submitted_by_pipeline_endpoint = pipeline_endpoint.submit(experiment_name=test_submit_experiment_name)"
   ]
  },
  {
   "cell_type": "code",
   "execution_count": 21,
   "metadata": {},
   "outputs": [
    {
     "data": {
      "text/plain": [
       "'baee7db6-b947-4b13-950e-c032f9285e44'"
      ]
     },
     "execution_count": 21,
     "metadata": {},
     "output_type": "execute_result"
    }
   ],
   "source": [
    "run_submitted_by_pipeline_endpoint.tags[\"azureml.pipelineid\"]"
   ]
  },
  {
   "cell_type": "code",
   "execution_count": 22,
   "metadata": {},
   "outputs": [
    {
     "data": {
      "text/plain": [
       "'baee7db6-b947-4b13-950e-c032f9285e44'"
      ]
     },
     "execution_count": 22,
     "metadata": {},
     "output_type": "execute_result"
    }
   ],
   "source": [
    "pipeline_endpoint._default_pipeline_id"
   ]
  },
  {
   "cell_type": "markdown",
   "metadata": {},
   "source": [
    "### 3. List\n",
    "List active PipelineEndpoints in the current workspace."
   ]
  },
  {
   "cell_type": "code",
   "execution_count": 23,
   "metadata": {},
   "outputs": [],
   "source": [
    "pipeline_endpoints_list = PipelineEndpoint.list(workspace=workspace, active_only=False)"
   ]
  },
  {
   "cell_type": "code",
   "execution_count": 24,
   "metadata": {},
   "outputs": [
    {
     "data": {
      "text/plain": [
       "[<azureml.pipeline.wrapper._pipeline_endpoint.PipelineEndpoint at 0x1b31fbcc288>,\n",
       " <azureml.pipeline.wrapper._pipeline_endpoint.PipelineEndpoint at 0x1b31fb11708>,\n",
       " <azureml.pipeline.wrapper._pipeline_endpoint.PipelineEndpoint at 0x1b31fb5d5c8>,\n",
       " <azureml.pipeline.wrapper._pipeline_endpoint.PipelineEndpoint at 0x1b31f971888>,\n",
       " <azureml.pipeline.wrapper._pipeline_endpoint.PipelineEndpoint at 0x1b31f987c08>,\n",
       " <azureml.pipeline.wrapper._pipeline_endpoint.PipelineEndpoint at 0x1b31fb61688>,\n",
       " <azureml.pipeline.wrapper._pipeline_endpoint.PipelineEndpoint at 0x1b31fb73e48>,\n",
       " <azureml.pipeline.wrapper._pipeline_endpoint.PipelineEndpoint at 0x1b31fb61588>,\n",
       " <azureml.pipeline.wrapper._pipeline_endpoint.PipelineEndpoint at 0x1b31fbcce88>,\n",
       " <azureml.pipeline.wrapper._pipeline_endpoint.PipelineEndpoint at 0x1b31f9702c8>,\n",
       " <azureml.pipeline.wrapper._pipeline_endpoint.PipelineEndpoint at 0x1b31e8ecc08>,\n",
       " <azureml.pipeline.wrapper._pipeline_endpoint.PipelineEndpoint at 0x1b31fb73788>]"
      ]
     },
     "execution_count": 24,
     "metadata": {},
     "output_type": "execute_result"
    }
   ],
   "source": [
    "pipeline_endpoints_list"
   ]
  },
  {
   "cell_type": "code",
   "execution_count": 48,
   "metadata": {},
   "outputs": [
    {
     "name": "stdout",
     "output_type": "stream",
     "text": [
      "pipeline endpoints name list:\n"
     ]
    },
    {
     "data": {
      "text/plain": [
       "['test_published_pipeline',\n",
       " 'test_publish_to_pipeline',\n",
       " 'test_pipeline_endpoint',\n",
       " 'test_endpoint_publish_endpoint',\n",
       " 'pipeline_export_test',\n",
       " 'test',\n",
       " 'test-sub-graph',\n",
       " 'Pipeline-Created-on-7-6-2020111',\n",
       " 'Pipeline-Created-on-7-6-2020',\n",
       " 'Sample 3: test2',\n",
       " 'Sample 3: Binary Classification with Feature Selection - Income Prediction',\n",
       " 'Sample 1: Regression - Automobile Price Prediction (Basic)']"
      ]
     },
     "execution_count": 48,
     "metadata": {},
     "output_type": "execute_result"
    }
   ],
   "source": [
    "print(\"pipeline endpoints name list:\") \n",
    "[endpoint.name for endpoint in pipeline_endpoints_list]"
   ]
  },
  {
   "cell_type": "markdown",
   "metadata": {},
   "source": [
    "### 4. Enable & Disable"
   ]
  },
  {
   "cell_type": "code",
   "execution_count": 29,
   "metadata": {},
   "outputs": [
    {
     "name": "stdout",
     "output_type": "stream",
     "text": [
      "Active\n"
     ]
    }
   ],
   "source": [
    "pipeline_endpoint = PipelineEndpoint.get(workspace=workspace, endpoint_id=test_pipeline_endpoint_id)\n",
    "pipeline_endpoint.enable()\n",
    "print(pipeline_endpoint.status)"
   ]
  },
  {
   "cell_type": "code",
   "execution_count": 30,
   "metadata": {},
   "outputs": [
    {
     "name": "stdout",
     "output_type": "stream",
     "text": [
      "Disabled\n"
     ]
    }
   ],
   "source": [
    "pipeline_endpoint.disable()\n",
    "print(pipeline_endpoint.status)"
   ]
  },
  {
   "cell_type": "code",
   "execution_count": 31,
   "metadata": {},
   "outputs": [
    {
     "name": "stdout",
     "output_type": "stream",
     "text": [
      "Active\n"
     ]
    }
   ],
   "source": [
    "pipeline_endpoint.enable()\n",
    "print(pipeline_endpoint.status)"
   ]
  },
  {
   "cell_type": "markdown",
   "metadata": {},
   "source": [
    "### 5. Get Published Pipeline by version\n",
    "Get the pipeline of a specified version or the default; throws an exception if the version is not found."
   ]
  },
  {
   "cell_type": "code",
   "execution_count": 32,
   "metadata": {},
   "outputs": [],
   "source": [
    "pipeline_version = '0'\n",
    "pipeline_got = pipeline_endpoint.get_pipeline(version=pipeline_version)"
   ]
  },
  {
   "cell_type": "code",
   "execution_count": 33,
   "metadata": {},
   "outputs": [
    {
     "data": {
      "text/plain": [
       "<azureml.pipeline.wrapper._published_pipeline.PublishedPipeline at 0x1b31fad0fc8>"
      ]
     },
     "execution_count": 33,
     "metadata": {},
     "output_type": "execute_result"
    }
   ],
   "source": [
    "pipeline_got"
   ]
  },
  {
   "cell_type": "code",
   "execution_count": 37,
   "metadata": {},
   "outputs": [
    {
     "name": "stdout",
     "output_type": "stream",
     "text": [
      "pipeline_default.id baee7db6-b947-4b13-950e-c032f9285e44\n",
      "pipeline_endpoint default version: baee7db6-b947-4b13-950e-c032f9285e44\n"
     ]
    }
   ],
   "source": [
    "pipeline_default = pipeline_endpoint.get_pipeline()\n",
    "print('pipeline_default.id:', pipeline_default.id)\n",
    "print('pipeline_endpoint default version:', pipeline_endpoint._default_pipeline_id)"
   ]
  },
  {
   "cell_type": "code",
   "execution_count": 38,
   "metadata": {
    "collapsed": true
   },
   "outputs": [
    {
     "ename": "ValueError",
     "evalue": "Pipeline version \"not_exist\" not found in PipelineEndpoint \"b27eb28c-da34-4064-9c13-e515fdb2c71b\"",
     "output_type": "error",
     "traceback": [
      "\u001b[1;31m---------------------------------------------------------------------------\u001b[0m",
      "\u001b[1;31mValueError\u001b[0m                                Traceback (most recent call last)",
      "\u001b[1;32m<ipython-input-38-f0a982a005ca>\u001b[0m in \u001b[0;36m<module>\u001b[1;34m\u001b[0m\n\u001b[0;32m      1\u001b[0m \u001b[0mpipeline_version_not_exist\u001b[0m \u001b[1;33m=\u001b[0m \u001b[1;34m'not_exist'\u001b[0m\u001b[1;33m\u001b[0m\u001b[1;33m\u001b[0m\u001b[0m\n\u001b[1;32m----> 2\u001b[1;33m \u001b[0mpipeline_endpoint\u001b[0m\u001b[1;33m.\u001b[0m\u001b[0mget_pipeline\u001b[0m\u001b[1;33m(\u001b[0m\u001b[0mversion\u001b[0m\u001b[1;33m=\u001b[0m\u001b[0mpipeline_version_not_exist\u001b[0m\u001b[1;33m)\u001b[0m\u001b[1;33m\u001b[0m\u001b[1;33m\u001b[0m\u001b[0m\n\u001b[0m",
      "\u001b[1;32m~\\PycharmProjects\\AzureMLCli\\src\\azureml-pipeline-wrapper\\azureml\\pipeline\\wrapper\\_loggerfactory.py\u001b[0m in \u001b[0;36mwrapper\u001b[1;34m(*args, **kwargs)\u001b[0m\n\u001b[0;32m    130\u001b[0m                                                activity_type, custom_dimensions) as al:\n\u001b[0;32m    131\u001b[0m                 \u001b[1;32mtry\u001b[0m\u001b[1;33m:\u001b[0m\u001b[1;33m\u001b[0m\u001b[1;33m\u001b[0m\u001b[0m\n\u001b[1;32m--> 132\u001b[1;33m                     \u001b[1;32mreturn\u001b[0m \u001b[0mfunc\u001b[0m\u001b[1;33m(\u001b[0m\u001b[1;33m*\u001b[0m\u001b[0margs\u001b[0m\u001b[1;33m,\u001b[0m \u001b[1;33m**\u001b[0m\u001b[0mkwargs\u001b[0m\u001b[1;33m)\u001b[0m\u001b[1;33m\u001b[0m\u001b[1;33m\u001b[0m\u001b[0m\n\u001b[0m\u001b[0;32m    133\u001b[0m                 \u001b[1;32mexcept\u001b[0m \u001b[0mException\u001b[0m \u001b[1;32mas\u001b[0m \u001b[0me\u001b[0m\u001b[1;33m:\u001b[0m\u001b[1;33m\u001b[0m\u001b[1;33m\u001b[0m\u001b[0m\n\u001b[0;32m    134\u001b[0m                     \u001b[0mal\u001b[0m\u001b[1;33m.\u001b[0m\u001b[0mactivity_info\u001b[0m\u001b[1;33m[\u001b[0m\u001b[1;34m'exception_type'\u001b[0m\u001b[1;33m]\u001b[0m \u001b[1;33m=\u001b[0m \u001b[0mtype\u001b[0m\u001b[1;33m(\u001b[0m\u001b[0me\u001b[0m\u001b[1;33m)\u001b[0m\u001b[1;33m.\u001b[0m\u001b[0m__name__\u001b[0m\u001b[1;33m\u001b[0m\u001b[1;33m\u001b[0m\u001b[0m\n",
      "\u001b[1;32m~\\PycharmProjects\\AzureMLCli\\src\\azureml-pipeline-wrapper\\azureml\\pipeline\\wrapper\\_pipeline_endpoint.py\u001b[0m in \u001b[0;36mget_pipeline\u001b[1;34m(self, version)\u001b[0m\n\u001b[0;32m    200\u001b[0m                 \u001b[1;32mreturn\u001b[0m \u001b[0mpipeline\u001b[0m\u001b[1;33m\u001b[0m\u001b[1;33m\u001b[0m\u001b[0m\n\u001b[0;32m    201\u001b[0m \u001b[1;33m\u001b[0m\u001b[0m\n\u001b[1;32m--> 202\u001b[1;33m         \u001b[1;32mraise\u001b[0m \u001b[0mValueError\u001b[0m\u001b[1;33m(\u001b[0m\u001b[1;34m'Pipeline version \"{0}\" not found in PipelineEndpoint \"{1}\"'\u001b[0m\u001b[1;33m.\u001b[0m\u001b[0mformat\u001b[0m\u001b[1;33m(\u001b[0m\u001b[0mversion\u001b[0m\u001b[1;33m,\u001b[0m \u001b[0mself\u001b[0m\u001b[1;33m.\u001b[0m\u001b[0mid\u001b[0m\u001b[1;33m)\u001b[0m\u001b[1;33m)\u001b[0m\u001b[1;33m\u001b[0m\u001b[1;33m\u001b[0m\u001b[0m\n\u001b[0m\u001b[0;32m    203\u001b[0m \u001b[1;33m\u001b[0m\u001b[0m\n\u001b[0;32m    204\u001b[0m     \u001b[1;33m@\u001b[0m\u001b[0mtrack\u001b[0m\u001b[1;33m(\u001b[0m\u001b[0m_get_logger\u001b[0m\u001b[1;33m,\u001b[0m \u001b[0mactivity_type\u001b[0m\u001b[1;33m=\u001b[0m\u001b[0m_PUBLIC_API\u001b[0m\u001b[1;33m,\u001b[0m \u001b[0mactivity_name\u001b[0m\u001b[1;33m=\u001b[0m\u001b[1;34m\"PipelineEndpoint_get_all_pipelines\"\u001b[0m\u001b[1;33m)\u001b[0m\u001b[1;33m\u001b[0m\u001b[1;33m\u001b[0m\u001b[0m\n",
      "\u001b[1;31mValueError\u001b[0m: Pipeline version \"not_exist\" not found in PipelineEndpoint \"b27eb28c-da34-4064-9c13-e515fdb2c71b\""
     ]
    }
   ],
   "source": [
    "pipeline_version_not_exist = 'not_exist'\n",
    "pipeline_endpoint.get_pipeline(version=pipeline_version_not_exist)"
   ]
  },
  {
   "cell_type": "markdown",
   "metadata": {},
   "source": [
    "### 6. Get all pipelines\n",
    "Get list of PublishedPipelines in PipelineEndpoint.\n",
    "active_only: Whether to return only active pipelines."
   ]
  },
  {
   "cell_type": "code",
   "execution_count": 39,
   "metadata": {},
   "outputs": [],
   "source": [
    "pipelines_list = pipeline_endpoint.get_all_pipelines(active_only=True)"
   ]
  },
  {
   "cell_type": "code",
   "execution_count": 44,
   "metadata": {},
   "outputs": [
    {
     "data": {
      "text/plain": [
       "<azureml.pipeline.wrapper._published_pipeline.PublishedPipeline at 0x1b31fb82c48>"
      ]
     },
     "execution_count": 44,
     "metadata": {},
     "output_type": "execute_result"
    }
   ],
   "source": [
    "pipelines_list[0]"
   ]
  },
  {
   "cell_type": "markdown",
   "metadata": {},
   "source": [
    "### 7. pipeline version list property\n",
    "class PipelineVersion(object):\n",
    "\n",
    "    def __init__(self, version, name, id, description, is_default, status):\n",
    "        self._version = version\n",
    "        self._name = name\n",
    "        self._id = id\n",
    "        self._description = description\n",
    "        self._is_default = is_default\n",
    "        self._status = status"
   ]
  },
  {
   "cell_type": "code",
   "execution_count": 41,
   "metadata": {},
   "outputs": [],
   "source": [
    "versions_list = pipeline_endpoint.pipeline_version_list"
   ]
  },
  {
   "cell_type": "code",
   "execution_count": 43,
   "metadata": {},
   "outputs": [
    {
     "data": {
      "text/plain": [
       "<azureml.pipeline.wrapper._pipeline_endpoint.PipelineVersion at 0x1b31fa7b0c8>"
      ]
     },
     "execution_count": 43,
     "metadata": {},
     "output_type": "execute_result"
    }
   ],
   "source": [
    "versions_list[0]"
   ]
  },
  {
   "cell_type": "code",
   "execution_count": null,
   "metadata": {},
   "outputs": [],
   "source": []
  },
  {
   "cell_type": "code",
   "execution_count": null,
   "metadata": {},
   "outputs": [],
   "source": []
  },
  {
   "cell_type": "code",
   "execution_count": null,
   "metadata": {},
   "outputs": [],
   "source": []
  },
  {
   "cell_type": "code",
   "execution_count": null,
   "metadata": {},
   "outputs": [],
   "source": []
  },
  {
   "cell_type": "code",
   "execution_count": null,
   "metadata": {},
   "outputs": [],
   "source": []
  }
 ],
 "metadata": {
  "kernelspec": {
   "display_name": "aml",
   "language": "python",
   "name": "aml"
  },
  "language_info": {
   "codemirror_mode": {
    "name": "ipython",
    "version": 3
   },
   "file_extension": ".py",
   "mimetype": "text/x-python",
   "name": "python",
   "nbconvert_exporter": "python",
   "pygments_lexer": "ipython3",
   "version": "3.7.6"
  }
 },
 "nbformat": 4,
 "nbformat_minor": 4
}
